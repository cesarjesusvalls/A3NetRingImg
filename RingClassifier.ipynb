{
 "cells": [
  {
   "cell_type": "code",
   "execution_count": 1,
   "id": "44428e88-1c23-41b9-924a-5d3727a8cb68",
   "metadata": {},
   "outputs": [],
   "source": [
    "import numpy as np\n",
    "from PIL import Image, ImageDraw\n",
    "import random\n",
    "import os\n",
    "import matplotlib.pyplot as plt\n",
    "import tensorflow as tf\n",
    "from tensorflow.keras import layers, models"
   ]
  },
  {
   "cell_type": "markdown",
   "id": "7254388a-c440-46cc-bc76-1ad3c17bcad2",
   "metadata": {},
   "source": [
    "### A dataset with either one or two rings in the same image (and an associated label file!)"
   ]
  },
  {
   "cell_type": "code",
   "execution_count": null,
   "id": "b821053b-cdfe-408f-a75e-70c0dd18186d",
   "metadata": {},
   "outputs": [],
   "source": [
    "def create_ring(image_size, center, radius, thickness, deformation=0):\n",
    "    img = Image.new('L', (image_size, image_size), color=0)\n",
    "    draw = ImageDraw.Draw(img)\n",
    "    \n",
    "    for angle in range(360):\n",
    "        r = radius + random.uniform(-deformation, deformation)\n",
    "        x = center[0] + r * np.cos(np.radians(angle))\n",
    "        y = center[1] + r * np.sin(np.radians(angle))\n",
    "        draw.ellipse([x-thickness/2, y-thickness/2, x+thickness/2, y+thickness/2], fill=255)\n",
    "    \n",
    "    return np.array(img)\n",
    "\n",
    "def generate_N_ring_dataset(num_images, image_size=28, save_dir='N_ring_dataset'):\n",
    "    if not os.path.exists(save_dir):\n",
    "        os.makedirs(save_dir)\n",
    "    \n",
    "    labels = []\n",
    "    \n",
    "    for i in range(num_images):\n",
    "        # Note that you can have more rings in the same image if you like by changing the numbes below!\n",
    "        num_rings = random.choice([1, 2])\n",
    "        img = np.zeros((image_size, image_size), dtype=np.uint8)\n",
    "        \n",
    "        for _ in range(num_rings):\n",
    "            center = (random.randint(5, image_size-5), random.randint(5, image_size-5))\n",
    "            radius = random.randint(3, min(center[0], center[1], image_size-center[0], image_size-center[1])-2)\n",
    "            thickness = random.uniform(0.2, 1)\n",
    "            deformation = random.uniform(0, 1)\n",
    "            \n",
    "            ring = create_ring(image_size, center, radius, thickness, deformation)\n",
    "            img = np.maximum(img, ring)\n",
    "        \n",
    "        img_pil = Image.fromarray(img)\n",
    "        img_pil.save(f'{save_dir}/ring_image_{i}.png')\n",
    "        labels.append(num_rings)\n",
    "    \n",
    "    with open(f'{save_dir}/labels.txt', 'w') as f:\n",
    "        for label in labels:\n",
    "            f.write(f'{label}\\n')"
   ]
  },
  {
   "cell_type": "code",
   "execution_count": null,
   "id": "1013a0b1-6720-466a-a78a-9458febcdf26",
   "metadata": {},
   "outputs": [],
   "source": [
    "# Generate 10000 images\n",
    "generate_N_ring_dataset(10000)\n",
    "print(\"Dataset generated successfully!\")"
   ]
  },
  {
   "cell_type": "code",
   "execution_count": 7,
   "id": "611fbd71-e104-4b39-8cb5-93e37d3ffbaa",
   "metadata": {},
   "outputs": [],
   "source": [
    "def load_N_ring_dataset(directory):\n",
    "    images = []\n",
    "    labels = []\n",
    "    \n",
    "    # Read labels first\n",
    "    with open(os.path.join(directory, 'labels.txt'), 'r') as f:\n",
    "        labels = [int(line.strip()) - 1 for line in f]  # Subtract 1 from each label\n",
    "    \n",
    "    # Load images in the correct order\n",
    "    for i in range(len(labels)):\n",
    "        filename = f'ring_image_{i}.png'\n",
    "        img_path = os.path.join(directory, filename)\n",
    "        if os.path.exists(img_path):\n",
    "            img = Image.open(img_path).convert('L')\n",
    "            img_array = np.array(img).reshape(-1).astype('float32') / 255\n",
    "            images.append(img_array)\n",
    "        else:\n",
    "            print(f\"Warning: Image {filename} not found. Skipping.\")\n",
    "    \n",
    "    # Ensure we have the same number of images and labels\n",
    "    if len(images) != len(labels):\n",
    "        print(f\"Warning: Number of images ({len(images)}) does not match number of labels ({len(labels)})\")\n",
    "    \n",
    "    return np.array(images), np.array(labels)"
   ]
  },
  {
   "cell_type": "code",
   "execution_count": 4,
   "id": "04d4e10a-bac0-4986-9f8c-68cdbfdb3afd",
   "metadata": {},
   "outputs": [],
   "source": [
    "import matplotlib.pyplot as plt\n",
    "\n",
    "def plot_dataset_samples(images, labels, dataset_name, num_samples=5):\n",
    "    plt.figure(figsize=(15, 3))\n",
    "    for i in range(num_samples):\n",
    "        plt.subplot(1, num_samples, i + 1)\n",
    "        plt.imshow(images[i].reshape(28, 28), cmap='gray')\n",
    "        plt.title(f\"Label: {labels[i]}\")\n",
    "        plt.axis('off')\n",
    "    plt.suptitle(f\"{dataset_name} Dataset Samples\")\n",
    "    plt.show()\n",
    "\n",
    "def visualize_datasets(ring_data):\n",
    "    (x_ring, y_ring) = ring_data\n",
    "\n",
    "    # Visualize Ring dataset samples\n",
    "    ring_indices = np.random.choice(len(x_ring), 5, replace=False)\n",
    "    plot_dataset_samples(x_ring[ring_indices], y_ring[ring_indices], \"Ring\")"
   ]
  },
  {
   "cell_type": "code",
   "execution_count": 8,
   "id": "40b462fb-1d3f-4224-a576-b2b9540abec9",
   "metadata": {},
   "outputs": [],
   "source": [
    "ring_data = load_N_ring_dataset('N_ring_dataset')"
   ]
  },
  {
   "cell_type": "code",
   "execution_count": 9,
   "id": "2652b397-8b56-4542-9403-a2b4b75ec2f3",
   "metadata": {},
   "outputs": [
    {
     "data": {
      "image/png": "[encoded data removed]",
      "text/plain": [
       "<Figure size 1500x300 with 5 Axes>"
      ]
     },
     "metadata": {},
     "output_type": "display_data"
    }
   ],
   "source": [
    "# Visualize datasets\n",
    "visualize_datasets(ring_data)"
   ]
  },
  {
   "cell_type": "markdown",
   "id": "4e8d9527-29d7-409a-9872-de092bb3526d",
   "metadata": {},
   "source": [
    "### Following the MNIST example, can you classify this data into events with one ring and events with two rings?"
   ]
  },
  {
   "cell_type": "markdown",
   "id": "2bb4cef9-7c8b-421a-a1a7-f031c904932a",
   "metadata": {},
   "source": [
    "### Can you used a non Neural-Network-based technique to do this classification?\n",
    "HINT: Use PCA + SVM!"
   ]
  },
  {
   "cell_type": "markdown",
   "id": "eb7784c1-bd57-43e3-a750-ea9960eca68d",
   "metadata": {},
   "source": [
    "### Generate a new datasets with a larger number of rings 1,2,3,4...etc!\n",
    "How does the performances change versus N?"
   ]
  },
  {
   "cell_type": "markdown",
   "id": "29754a8b-7bb6-4887-9646-28e188bc467a",
   "metadata": {},
   "source": [
    "### As a function of N, what is the distribution of clusters? Namely, how many groups of disconnected hits can you find?\n",
    "HINT: Use DBSCAN algorithm to find the clusters!"
   ]
  },
  {
   "cell_type": "code",
   "execution_count": null,
   "id": "2387972f-cfc8-4620-9997-5b72e7f9835c",
   "metadata": {},
   "outputs": [],
   "source": []
  }
 ],
 "metadata": {
  "kernelspec": {
   "display_name": "Python 3 (ipykernel)",
   "language": "python",
   "name": "python3"
  },
  "language_info": {
   "codemirror_mode": {
    "name": "ipython",
    "version": 3
   },
   "file_extension": ".py",
   "mimetype": "text/x-python",
   "name": "python",
   "nbconvert_exporter": "python",
   "pygments_lexer": "ipython3",
   "version": "3.12.2"
  }
 },
 "nbformat": 4,
 "nbformat_minor": 5
}
