{
 "cells": [
  {
   "cell_type": "code",
   "execution_count": 9,
   "id": "3be07e2e-09a7-4d06-ac9d-937c80f44952",
   "metadata": {},
   "outputs": [],
   "source": [
    "import numpy as np\n",
    "from PIL import Image, ImageDraw\n",
    "import random\n",
    "import os\n",
    "import matplotlib.pyplot as plt\n",
    "import tensorflow as tf\n",
    "from tensorflow.keras import layers, models"
   ]
  },
  {
   "cell_type": "code",
   "execution_count": 10,
   "id": "29fd7842-4720-4355-b19a-58128eba9017",
   "metadata": {},
   "outputs": [],
   "source": [
    "# Load MNIST dataset\n",
    "def load_mnist():\n",
    "    (x_train, y_train), (x_test, y_test) = tf.keras.datasets.mnist.load_data()\n",
    "    x_train = x_train.reshape(x_train.shape[0], -1).astype('float32') / 255\n",
    "    x_test = x_test.reshape(x_test.shape[0], -1).astype('float32') / 255\n",
    "    return x_train, y_train, x_test, y_test"
   ]
  },
  {
   "cell_type": "code",
   "execution_count": 11,
   "id": "23a28f3c-63cb-4dee-b2a7-2ed93a34c62f",
   "metadata": {},
   "outputs": [],
   "source": [
    "mnist_data = load_mnist()"
   ]
  },
  {
   "cell_type": "code",
   "execution_count": 12,
   "id": "05fca066-0db9-4014-a167-dc7e70355e4b",
   "metadata": {},
   "outputs": [],
   "source": [
    "def plot_dataset_samples(images, labels, dataset_name, num_samples=5):\n",
    "    plt.figure(figsize=(15, 3))\n",
    "    for i in range(num_samples):\n",
    "        plt.subplot(1, num_samples, i + 1)\n",
    "        plt.imshow(images[i].reshape(28, 28), cmap='gray')\n",
    "        plt.title(f\"Label: {labels[i]}\")\n",
    "        plt.axis('off')\n",
    "    plt.suptitle(f\"{dataset_name} Dataset Samples\")\n",
    "    plt.show()\n",
    "\n",
    "def visualize_datasets(mnist_data):\n",
    "    (x_train_mnist, y_train_mnist, _, _) = mnist_data\n",
    "\n",
    "    # Visualize MNIST samples\n",
    "    mnist_indices = np.random.choice(len(x_train_mnist), 5, replace=False)\n",
    "    plot_dataset_samples(x_train_mnist[mnist_indices], y_train_mnist[mnist_indices], \"MNIST\")"
   ]
  },
  {
   "cell_type": "code",
   "execution_count": 13,
   "id": "ad6dbbfc-0c2b-4b73-ae6d-a8ccd59bab9b",
   "metadata": {},
   "outputs": [
    {
     "data": {
      "image/png": "[encoded data removed]",
      "text/plain": [
       "<Figure size 1500x300 with 5 Axes>"
      ]
     },
     "metadata": {},
     "output_type": "display_data"
    }
   ],
   "source": [
    "# Visualize datasets\n",
    "visualize_datasets(mnist_data)"
   ]
  },
  {
   "cell_type": "code",
   "execution_count": 14,
   "id": "8d74aa7f-af1a-42e5-9678-bdb9ed1deb5b",
   "metadata": {},
   "outputs": [],
   "source": [
    "# CNN classification\n",
    "def cnn_classification(num_classes):\n",
    "    model = models.Sequential([\n",
    "        layers.Input(shape=(28, 28, 1)),  # Add this line\n",
    "        layers.Conv2D(32, (3, 3), activation='relu'),\n",
    "        layers.MaxPooling2D((2, 2)),\n",
    "        layers.Conv2D(64, (3, 3), activation='relu'),\n",
    "        layers.MaxPooling2D((2, 2)),\n",
    "        layers.Conv2D(64, (3, 3), activation='relu'),\n",
    "        layers.Flatten(),\n",
    "        layers.Dense(64, activation='relu'),\n",
    "        layers.Dense(num_classes, activation='softmax')\n",
    "    ])\n",
    "\n",
    "    return model\n",
    "\n",
    "def train(model, x_train, y_train, x_test, y_test):\n",
    "    x_train = x_train.reshape(-1, 28, 28, 1)\n",
    "    x_test = x_test.reshape(-1, 28, 28, 1)\n",
    "    model.compile(optimizer='adam',\n",
    "                  loss='sparse_categorical_crossentropy',\n",
    "                  metrics=['accuracy'])\n",
    "    \n",
    "    model.fit(x_train, y_train, epochs=5, validation_split=0.2, batch_size=64)\n",
    "    \n",
    "    _, accuracy = model.evaluate(x_test, y_test)\n",
    "    return accuracy"
   ]
  },
  {
   "cell_type": "code",
   "execution_count": 15,
   "id": "f3339e4d-3785-4a19-9471-34c3096b34c8",
   "metadata": {},
   "outputs": [
    {
     "name": "stdout",
     "output_type": "stream",
     "text": [
      "Epoch 1/5\n",
      "\u001b[1m750/750\u001b[0m \u001b[32m━━━━━━━━━━━━━━━━━━━━\u001b[0m\u001b[37m\u001b[0m \u001b[1m11s\u001b[0m 14ms/step - accuracy: 0.8396 - loss: 0.4988 - val_accuracy: 0.9822 - val_loss: 0.0587\n",
      "Epoch 2/5\n",
      "\u001b[1m750/750\u001b[0m \u001b[32m━━━━━━━━━━━━━━━━━━━━\u001b[0m\u001b[37m\u001b[0m \u001b[1m10s\u001b[0m 13ms/step - accuracy: 0.9826 - loss: 0.0573 - val_accuracy: 0.9856 - val_loss: 0.0492\n",
      "Epoch 3/5\n",
      "\u001b[1m750/750\u001b[0m \u001b[32m━━━━━━━━━━━━━━━━━━━━\u001b[0m\u001b[37m\u001b[0m \u001b[1m10s\u001b[0m 13ms/step - accuracy: 0.9869 - loss: 0.0406 - val_accuracy: 0.9869 - val_loss: 0.0415\n",
      "Epoch 4/5\n",
      "\u001b[1m750/750\u001b[0m \u001b[32m━━━━━━━━━━━━━━━━━━━━\u001b[0m\u001b[37m\u001b[0m \u001b[1m10s\u001b[0m 13ms/step - accuracy: 0.9908 - loss: 0.0278 - val_accuracy: 0.9904 - val_loss: 0.0348\n",
      "Epoch 5/5\n",
      "\u001b[1m750/750\u001b[0m \u001b[32m━━━━━━━━━━━━━━━━━━━━\u001b[0m\u001b[37m\u001b[0m \u001b[1m10s\u001b[0m 13ms/step - accuracy: 0.9936 - loss: 0.0208 - val_accuracy: 0.9901 - val_loss: 0.0368\n",
      "\u001b[1m313/313\u001b[0m \u001b[32m━━━━━━━━━━━━━━━━━━━━\u001b[0m\u001b[37m\u001b[0m \u001b[1m1s\u001b[0m 4ms/step - accuracy: 0.9875 - loss: 0.0423\n",
      "MNIST CNN Accuracy: 0.9907000064849854\n"
     ]
    }
   ],
   "source": [
    "x_train, y_train, x_test, y_test = mnist_data\n",
    "mnist_model = cnn_classification(num_classes=10)\n",
    "print(\"MNIST CNN Accuracy:\", train(mnist_model, x_train, y_train, x_test, y_test))"
   ]
  },
  {
   "cell_type": "code",
   "execution_count": 16,
   "id": "5cd47ca1-3527-4430-94f3-e9d4e1c7b970",
   "metadata": {},
   "outputs": [],
   "source": [
    "def plot_classification_results(images, true_labels, predicted_labels, dataset_name, num_samples=5):\n",
    "    plt.figure(figsize=(15, 3))\n",
    "    indices = np.random.choice(len(images), num_samples, replace=False)\n",
    "    for i, idx in enumerate(indices):\n",
    "        plt.subplot(1, num_samples, i + 1)\n",
    "        plt.imshow(images[idx].reshape(28, 28), cmap='gray')\n",
    "        color = 'green' if true_labels[idx] == predicted_labels[idx] else 'red'\n",
    "        plt.title(f\"True: {true_labels[idx]}\\nPred: {predicted_labels[idx]}\", color=color)\n",
    "        plt.axis('off')\n",
    "    plt.show()\n",
    "\n",
    "def visualize_classification_results(mnist_model, mnist_data):\n",
    "    (_, _, x_test_mnist, y_test_mnist) = mnist_data\n",
    "\n",
    "    # MNIST predictions\n",
    "    y_pred_mnist = mnist_model.predict(x_test_mnist.reshape(-1, 28, 28, 1)).argmax(axis=1)\n",
    "    plot_classification_results(x_test_mnist, y_test_mnist, y_pred_mnist, \"MNIST\")"
   ]
  },
  {
   "cell_type": "code",
   "execution_count": 18,
   "id": "e2e8bd2d-604b-4993-8144-ca4b133b937d",
   "metadata": {},
   "outputs": [
    {
     "name": "stdout",
     "output_type": "stream",
     "text": [
      "\u001b[1m313/313\u001b[0m \u001b[32m━━━━━━━━━━━━━━━━━━━━\u001b[0m\u001b[37m\u001b[0m \u001b[1m1s\u001b[0m 3ms/step\n"
     ]
    },
    {
     "data": {
      "image/png": "[encoded data removed]",
      "text/plain": [
       "<Figure size 1500x300 with 5 Axes>"
      ]
     },
     "metadata": {},
     "output_type": "display_data"
    }
   ],
   "source": [
    "visualize_classification_results(mnist_model, mnist_data)"
   ]
  },
  {
   "cell_type": "code",
   "execution_count": null,
   "id": "3145d44c-d78b-4671-99fc-4e2d68158ba7",
   "metadata": {},
   "outputs": [],
   "source": []
  }
 ],
 "metadata": {
  "kernelspec": {
   "display_name": "Python 3 (ipykernel)",
   "language": "python",
   "name": "python3"
  },
  "language_info": {
   "codemirror_mode": {
    "name": "ipython",
    "version": 3
   },
   "file_extension": ".py",
   "mimetype": "text/x-python",
   "name": "python",
   "nbconvert_exporter": "python",
   "pygments_lexer": "ipython3",
   "version": "3.12.2"
  }
 },
 "nbformat": 4,
 "nbformat_minor": 5
}
